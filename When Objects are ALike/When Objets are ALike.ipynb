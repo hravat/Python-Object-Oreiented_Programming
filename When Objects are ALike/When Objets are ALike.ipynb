{
 "cells": [
  {
   "cell_type": "code",
   "execution_count": 1,
   "metadata": {},
   "outputs": [],
   "source": [
    "from classcode import  Booklist\n",
    "from classcode import Audiobook\n",
    "from classcode import BookPublisher"
   ]
  },
  {
   "cell_type": "code",
   "execution_count": 2,
   "metadata": {},
   "outputs": [],
   "source": [
    "book1 = Booklist('LOTR','JRR')"
   ]
  },
  {
   "cell_type": "code",
   "execution_count": 3,
   "metadata": {},
   "outputs": [
    {
     "name": "stdout",
     "output_type": "stream",
     "text": [
      "JRR\n",
      "LOTR\n"
     ]
    }
   ],
   "source": [
    "print(book1.author)\n",
    "print(book1.bookname)"
   ]
  },
  {
   "cell_type": "code",
   "execution_count": 4,
   "metadata": {},
   "outputs": [],
   "source": [
    "book2 = Booklist('HP','Jk')"
   ]
  },
  {
   "cell_type": "code",
   "execution_count": 5,
   "metadata": {},
   "outputs": [
    {
     "name": "stdout",
     "output_type": "stream",
     "text": [
      "Jk\n",
      "HP\n"
     ]
    }
   ],
   "source": [
    "print(book2.author)\n",
    "print(book2.bookname)"
   ]
  },
  {
   "cell_type": "code",
   "execution_count": 6,
   "metadata": {},
   "outputs": [
    {
     "name": "stdout",
     "output_type": "stream",
     "text": [
      "--------------\n",
      "<classcode.Booklist object at 0x000001F8D78A1910>\n",
      "0\n",
      "JRR\n",
      "LOTR\n",
      "--------------\n",
      "--------------\n",
      "<classcode.Booklist object at 0x000001F8D78A17F0>\n",
      "1\n",
      "Jk\n",
      "HP\n",
      "--------------\n"
     ]
    }
   ],
   "source": [
    "for i,book in enumerate(book2.all_books):\n",
    "    print('--------------')\n",
    "    print(book)\n",
    "    print(i)\n",
    "    print(book.author)\n",
    "    print(book.bookname)\n",
    "    print('--------------')"
   ]
  },
  {
   "cell_type": "code",
   "execution_count": 7,
   "metadata": {},
   "outputs": [],
   "source": [
    "book3 = Audiobook('PM','BO')"
   ]
  },
  {
   "cell_type": "code",
   "execution_count": 8,
   "metadata": {},
   "outputs": [
    {
     "name": "stdout",
     "output_type": "stream",
     "text": [
      "The format of this audio book is MP3\n"
     ]
    }
   ],
   "source": [
    "book3.format('MP3')"
   ]
  },
  {
   "cell_type": "code",
   "execution_count": 9,
   "metadata": {},
   "outputs": [
    {
     "name": "stdout",
     "output_type": "stream",
     "text": [
      "--------------\n",
      "<classcode.Booklist object at 0x000001F8D78A1910>\n",
      "0\n",
      "JRR\n",
      "LOTR\n",
      "--------------\n",
      "--------------\n",
      "<classcode.Booklist object at 0x000001F8D78A17F0>\n",
      "1\n",
      "Jk\n",
      "HP\n",
      "--------------\n",
      "--------------\n",
      "<classcode.Audiobook object at 0x000001F8D78A1AC0>\n",
      "2\n",
      "BO\n",
      "PM\n",
      "--------------\n"
     ]
    }
   ],
   "source": [
    "for i,book in enumerate(book3.all_books):\n",
    "    print('--------------')\n",
    "    print(book)\n",
    "    print(i)\n",
    "    print(book.author)\n",
    "    print(book.bookname)\n",
    "    print('--------------')"
   ]
  },
  {
   "cell_type": "code",
   "execution_count": 10,
   "metadata": {},
   "outputs": [],
   "source": [
    "hp_book1 = Booklist('HP1','JK')\n",
    "hp_book2 = Booklist('HP2','JK')\n",
    "hp_book3 = Booklist('HP3','JK')\n",
    "hp_book4 = Booklist('HP4','JK')\n",
    "hp_book5 = Booklist('HP5','JK')"
   ]
  },
  {
   "cell_type": "code",
   "execution_count": 11,
   "metadata": {},
   "outputs": [
    {
     "name": "stdout",
     "output_type": "stream",
     "text": [
      "--------------\n",
      "<classcode.Booklist object at 0x000001F8D78A1910>\n",
      "0\n",
      "JRR\n",
      "LOTR\n",
      "--------------\n",
      "--------------\n",
      "<classcode.Booklist object at 0x000001F8D78A17F0>\n",
      "1\n",
      "Jk\n",
      "HP\n",
      "--------------\n",
      "--------------\n",
      "<classcode.Audiobook object at 0x000001F8D78A1AC0>\n",
      "2\n",
      "BO\n",
      "PM\n",
      "--------------\n",
      "--------------\n",
      "<classcode.Booklist object at 0x000001F8D78A1970>\n",
      "3\n",
      "JK\n",
      "HP1\n",
      "--------------\n",
      "--------------\n",
      "<classcode.Booklist object at 0x000001F8D78A19A0>\n",
      "4\n",
      "JK\n",
      "HP2\n",
      "--------------\n",
      "--------------\n",
      "<classcode.Booklist object at 0x000001F8D78A1850>\n",
      "5\n",
      "JK\n",
      "HP3\n",
      "--------------\n",
      "--------------\n",
      "<classcode.Booklist object at 0x000001F8D78A1A60>\n",
      "6\n",
      "JK\n",
      "HP4\n",
      "--------------\n",
      "--------------\n",
      "<classcode.Booklist object at 0x000001F8D908E520>\n",
      "7\n",
      "JK\n",
      "HP5\n",
      "--------------\n"
     ]
    }
   ],
   "source": [
    "for i,book in enumerate(book3.all_books):\n",
    "    print('--------------')\n",
    "    print(book)\n",
    "    print(i)\n",
    "    print(book.author)\n",
    "    print(book.bookname)\n",
    "    print('--------------')"
   ]
  },
  {
   "cell_type": "code",
   "execution_count": 12,
   "metadata": {},
   "outputs": [
    {
     "data": {
      "text/plain": [
       "['HP', 'HP1', 'HP2', 'HP3', 'HP4', 'HP5']"
      ]
     },
     "execution_count": 12,
     "metadata": {},
     "output_type": "execute_result"
    }
   ],
   "source": [
    "[ book.bookname for   book in Booklist.all_books.search('HP')]"
   ]
  },
  {
   "cell_type": "code",
   "execution_count": 13,
   "metadata": {},
   "outputs": [],
   "source": [
    "bp1=BookPublisher('HP6','JK','BBY')"
   ]
  },
  {
   "cell_type": "code",
   "execution_count": 14,
   "metadata": {},
   "outputs": [
    {
     "data": {
      "text/plain": [
       "['HP', 'HP1', 'HP2', 'HP3', 'HP4', 'HP5', 'HP6']"
      ]
     },
     "execution_count": 14,
     "metadata": {},
     "output_type": "execute_result"
    }
   ],
   "source": [
    "[ book.bookname for   book in Booklist.all_books.search('HP')]"
   ]
  },
  {
   "cell_type": "code",
   "execution_count": 15,
   "metadata": {},
   "outputs": [
    {
     "name": "stdout",
     "output_type": "stream",
     "text": [
      "BBY\n"
     ]
    }
   ],
   "source": [
    "bp1.disp_publisher()"
   ]
  },
  {
   "cell_type": "code",
   "execution_count": null,
   "metadata": {},
   "outputs": [],
   "source": []
  }
 ],
 "metadata": {
  "kernelspec": {
   "display_name": "Python 3.8 (XPython)",
   "language": "python",
   "name": "xpython"
  },
  "language_info": {
   "file_extension": ".py",
   "mimetype": "text/x-python",
   "name": "python",
   "version": "3.8.5"
  }
 },
 "nbformat": 4,
 "nbformat_minor": 4
}
